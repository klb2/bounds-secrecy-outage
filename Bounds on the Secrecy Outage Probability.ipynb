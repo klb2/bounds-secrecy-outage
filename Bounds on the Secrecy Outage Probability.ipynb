{
 "cells": [
  {
   "cell_type": "markdown",
   "metadata": {},
   "source": [
    "# Bounds on the Secrecy Outage Probability"
   ]
  },
  {
   "cell_type": "markdown",
   "metadata": {},
   "source": [
    "## Rayleigh Fading"
   ]
  },
  {
   "cell_type": "markdown",
   "metadata": {},
   "source": [
    "Text about it..."
   ]
  },
  {
   "cell_type": "code",
   "execution_count": 1,
   "metadata": {},
   "outputs": [],
   "source": [
    "import numpy as np\n",
    "from scipy import optimize\n",
    "%matplotlib notebook\n",
    "import matplotlib.pyplot as plt\n",
    "from ipywidgets import interact"
   ]
  },
  {
   "cell_type": "code",
   "execution_count": 2,
   "metadata": {},
   "outputs": [],
   "source": [
    "def cdf_x(x, lam=1):\n",
    "    return np.maximum(1.-np.exp(-x*lam), 0)\n",
    "\n",
    "def cdf_y(y, lam=1):\n",
    "    return np.minimum(np.exp(y*lam), 1)\n",
    "\n",
    "def w_copula(a, b):\n",
    "    return np.maximum(a + b - 1, 0)"
   ]
  },
  {
   "cell_type": "code",
   "execution_count": 4,
   "metadata": {},
   "outputs": [],
   "source": [
    "def lower_bound_eps_c(r_s, r_c, lam_x=1, lam_y=2, snr_bob=1, snr_eve=1):\n",
    "    s = 2**r_s - 1.\n",
    "    return 1.-np.exp(-s*lam_x/snr_bob)\n",
    "\n",
    "#TODO\n",
    "def upper_bound_eps_c(s, rate, lam_x=1, lam_y=2, snr_bob=1, snr_eve=1):\n",
    "    alpha = 2**rate - 1.\n",
    "    lam_x_tilde = alpha*lam_x\n",
    "    a = 1./lam_x_tilde\n",
    "    b = 1./lam_y\n",
    "    if b < a:\n",
    "        x_opt = (a*b*(np.log(a)-np.log(b))+a*s)/(a-b)\n",
    "        y_opt = s - x_opt\n",
    "        fx = 1. - np.exp(-x_opt/a)\n",
    "        fy = np.exp(y_opt/b)\n",
    "        c = fx + fy\n",
    "    else:\n",
    "        c = 1\n",
    "    return c"
   ]
  },
  {
   "cell_type": "code",
   "execution_count": 6,
   "metadata": {},
   "outputs": [],
   "source": [
    "def calc_outage(bound, r_s, r_c, lam_x=1., lam_y=1., snr_bob=1, snr_eve=1):\n",
    "    if bound.startswith(\"ind\"):\n",
    "        func = NotImplemented #np.vectorize(cdf_laplace)\n",
    "    elif bound.startswith('min') or bound.startswith(\"low\"):\n",
    "        func = np.vectorize(lower_bound_eps_c)    \n",
    "    elif bound.startswith('max') or bound.startswith(\"up\"):\n",
    "        func = np.vectorize(upper_bound_eps_c)\n",
    "    return func(r_s, r_c, lam_x=lam_x, lam_y=lam_y, snr_bob=snr_bob, snr_eve=snr_eve)"
   ]
  },
  {
   "cell_type": "code",
   "execution_count": 7,
   "metadata": {},
   "outputs": [],
   "source": [
    "def copula_lower(a, b, r_s=1, r_c=1, lam_x=1, lam_y=1, snr_bob=1, snr_eve=1):\n",
    "    t = lower_bound_eps_c(r_s, r_c, lam_x=lam_x, lam_y=lam_y, snr_bob=snr_bobr, snr_eve=snr_eve)\n",
    "    c = np.minimum(a, b)\n",
    "    idx_t = np.where(np.logical_and(a >= t, b >= t))\n",
    "    c[idx_t] = np.maximum(a[idx_t] + b[idx_t] - 1, t)\n",
    "    return c\n",
    "\n",
    "def copula_upper(a, b, r_s=1, r_c=1, lam_x=1, lam_y=1, snr_bob=1, snr_eve=1):\n",
    "    r = upper_bound_eps_c(r_s, r_c, lam_x=lam_x, lam_y=lam_y, snr_bob=snr_bob, snr_eve=snr_eve)\n",
    "    c = np.minimum(a, b)\n",
    "    idx_r = np.where(np.logical_and(a <= r, b <= r))\n",
    "    c[idx_r] = np.maximum(a[idx_r] + b[idx_r] - r, 0)\n",
    "    return c"
   ]
  },
  {
   "cell_type": "code",
   "execution_count": null,
   "metadata": {},
   "outputs": [],
   "source": []
  }
 ],
 "metadata": {
  "kernelspec": {
   "display_name": "Python 3",
   "language": "python",
   "name": "python3"
  },
  "language_info": {
   "codemirror_mode": {
    "name": "ipython",
    "version": 3
   },
   "file_extension": ".py",
   "mimetype": "text/x-python",
   "name": "python",
   "nbconvert_exporter": "python",
   "pygments_lexer": "ipython3",
   "version": "3.8.1"
  }
 },
 "nbformat": 4,
 "nbformat_minor": 2
}
