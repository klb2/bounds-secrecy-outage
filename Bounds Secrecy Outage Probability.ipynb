{
 "cells": [
  {
   "cell_type": "markdown",
   "metadata": {},
   "source": [
    "# Bounds on the Secrecy Outage Probability"
   ]
  },
  {
   "cell_type": "markdown",
   "metadata": {},
   "source": [
    "_Author:_ Karl-Ludwig Besser, Technische Universität Braunschweig, Germany\n",
    "\n",
    "This notebook is part of the paper \"Bounds on the Secrecy Outage Probability for Dependent Fading Channels\" ([doi:10.1109/TCOMM.2020.3026654](https://doi.org/10.1109/TCOMM.2020.3026654), [arXiv:2004.06644](http://arxiv.org/abs/2004.06644)).  \n",
    "If you use any of this work, please cite the above paper."
   ]
  },
  {
   "cell_type": "markdown",
   "metadata": {},
   "source": [
    "> If you are not familiar with Jupyter notebooks: The easiest way to use this notebook interactively, is to hit `Kernel --> Restart & Run All` in the menu. The will execute all cells and enable the interactive elements of the plots.  \n",
    "> Alternatively, you can execute the cells one by one using Shift+Return"
   ]
  },
  {
   "cell_type": "code",
   "execution_count": null,
   "metadata": {},
   "outputs": [],
   "source": [
    "import numpy as np\n",
    "%matplotlib widget\n",
    "import matplotlib.pyplot as plt\n",
    "from ipywidgets import interact"
   ]
  },
  {
   "cell_type": "markdown",
   "metadata": {},
   "source": [
    "# Perfect CSI-T about the Main Channel"
   ]
  },
  {
   "cell_type": "markdown",
   "metadata": {},
   "source": [
    "In the case that the transmitter (Alice) has perfect channel state information (CSI) about the main channel to the legitimate receiver, a secrecy outage occurs, if the instantaneous secrecy capacity $C_S$ is less than the secrecy rate $R_S$ used for the transmission. The secrecy outage probability $\\varepsilon$ is then given as\n",
    "$$\\varepsilon = \\Pr\\left(\\log_2(1+\\rho_x X) - \\log_2(1+\\rho_y Y) < R_S\\right),$$\n",
    "with Bob's SNR $\\rho_x$ and Eve's SNR $\\rho_y$.\n",
    "\n",
    "We can reformulate this as\n",
    "$$\\varepsilon = \\Pr\\left(\\tilde{X}+\\tilde{Y} < s\\right)$$\n",
    "with the variables $\\tilde{X}=\\rho_x X$, $\\tilde{Y}=\\rho_y Y$, and $s=2^{R_S}-1$."
   ]
  },
  {
   "cell_type": "markdown",
   "metadata": {},
   "source": [
    "In the following plots, we will assume Rayleigh fading for both channels, i.e., $X$ and $Y$ are exponentially distributed as $X\\sim\\exp(\\lambda_x)$ and $Y\\sim\\exp(\\lambda_y)$."
   ]
  },
  {
   "cell_type": "code",
   "execution_count": null,
   "metadata": {},
   "outputs": [],
   "source": [
    "def plot_integration_area_main_csit():\n",
    "    fig, axs = plt.subplots(num=\"Integration Area Main CSIT\")\n",
    "    x = np.linspace(0, 5)\n",
    "    def update_plot(r_s):\n",
    "        y = (2**r_s-1) - x\n",
    "        axs.clear()\n",
    "        axs.set_xlim([0, 5])\n",
    "        axs.set_ylim([-5, 0])\n",
    "        axs.set_xlabel(\"$\\\\tilde{x}$\")\n",
    "        axs.set_ylabel(\"$\\\\tilde{y}$\")\n",
    "        axs.plot(x, y)\n",
    "        axs.fill_between(x, y, -5, alpha=.25)\n",
    "    interact(update_plot, r_s=(.01, 1, .01))"
   ]
  },
  {
   "cell_type": "markdown",
   "metadata": {},
   "source": [
    "The following plot shows the integration area corresponding to the secrecy outage, i.e., $\\tilde{X}+\\tilde{Y}<s$."
   ]
  },
  {
   "cell_type": "code",
   "execution_count": null,
   "metadata": {},
   "outputs": [],
   "source": [
    "plot_integration_area_main_csit()"
   ]
  },
  {
   "cell_type": "code",
   "execution_count": null,
   "metadata": {},
   "outputs": [],
   "source": [
    "from bounds_main_csit import lower_bound_main_csit, upper_bound_main_csit, independent_main_csit"
   ]
  },
  {
   "cell_type": "code",
   "execution_count": null,
   "metadata": {},
   "outputs": [],
   "source": [
    "def plot_vs_snrbob_main_csit():\n",
    "    r_c = 0  # not needed when CSIT is available\n",
    "    snr_db = np.arange(-5, 15.5, .5)\n",
    "    snr_bob = 10**(snr_db/10)\n",
    "    fig, axs = plt.subplots(num=\"Outage Probability vs SNR_Bob with Main CSIT\")\n",
    "    curves = {\"Lower Bound\": lower_bound_main_csit, \"Upper Bound\": upper_bound_main_csit, \n",
    "              \"Independent Channels\": independent_main_csit}\n",
    "    plots = {k: axs.semilogy(snr_db, np.ones(len(snr_db)), label=k)[0] for k in curves.keys()}\n",
    "    axs.set_ylim([1e-5, 1.1])\n",
    "    axs.set_xlabel(\"SNR Bob $\\\\rho_x$ [dB]\")\n",
    "    axs.set_ylabel(\"Secrect Outage Probability $\\\\varepsilon$\")\n",
    "    axs.legend()\n",
    "    def update_plot(snr_eve_db, lam_x, lam_y, r_s):\n",
    "        snr_eve = 10**(snr_eve_db/10)\n",
    "        lam_xt = lam_x/snr_bob\n",
    "        lam_yt = lam_y/(snr_eve*2**r_s)\n",
    "        #print(snr_db)\n",
    "        #print(lam_xt>lam_yt)\n",
    "        for _name, _func in curves.items():\n",
    "            plots[_name].set_ydata(_func(r_s, r_c, lam_xt, lam_yt))\n",
    "    interact(update_plot, snr_eve_db=(-10, 10, 1), lam_x=(0.5, 2, .1), lam_y=(0.5, 2, .1), r_s=(0.01, 0.5, 0.01))"
   ]
  },
  {
   "cell_type": "markdown",
   "metadata": {},
   "source": [
    "The following plot shows the behavior of the secrecy outage probability $\\varepsilon$ for varying SNR of Bob's channel $\\rho_x$.  \n",
    "The upper bound, lower bound, and the case of independent channels are plotted."
   ]
  },
  {
   "cell_type": "code",
   "execution_count": null,
   "metadata": {},
   "outputs": [],
   "source": [
    "plot_vs_snrbob_main_csit()"
   ]
  },
  {
   "cell_type": "code",
   "execution_count": null,
   "metadata": {},
   "outputs": [],
   "source": [
    "def _change_point_snr_eve(snr_bob, r_s, lam_x=1, lam_y=1):\n",
    "    point = lam_y/lam_x * (snr_bob/2**r_s) * np.exp(lam_x/snr_bob * (2**r_s-1))\n",
    "    return 10.*np.log10(point)\n",
    "\n",
    "def plot_vs_snreve_main_csit():\n",
    "    r_c = 0  # not needed when CSIT is available\n",
    "    snr_db_eve = np.arange(-30, 19.5, .5)\n",
    "    snr_eve = 10**(snr_db_eve/10)\n",
    "    fig, axs = plt.subplots(num=\"Outage Probability vs SNR_Eve with Main CSIT\")\n",
    "    curves = {\"lower\": lower_bound_main_csit, \"upper\": upper_bound_main_csit, \n",
    "              \"independent\": independent_main_csit}\n",
    "    plots = {k: axs.semilogy(snr_db_eve, np.ones(len(snr_db_eve)), label=k)[0] for k in curves.keys()}\n",
    "    plot_line_eve = axs.plot([10, 10], [1e-3, 1e-1], ls='--', color=plots[\"lower\"].get_c())[0]\n",
    "    axs.set_ylim([1e-3, 1.1])\n",
    "    axs.set_xlabel(\"SNR Eve $\\\\rho_y$ [dB]\")\n",
    "    axs.set_ylabel(\"Secrect Outage Probability $\\\\varepsilon$\")\n",
    "    def update_plot(snr_bob_db, lam_x=1, lam_y=1, r_s=.1):\n",
    "        snr_bob = 10**(snr_bob_db/10)\n",
    "        lam_xt = lam_x/snr_bob\n",
    "        lam_yt = lam_y/(snr_eve*2**r_s)\n",
    "        for _name, _func in curves.items():\n",
    "            plots[_name].set_ydata(_func(r_s, r_c, lam_xt, lam_yt))\n",
    "        plot_line_eve.set_xdata(_change_point_snr_eve(snr_bob, r_s, lam_x, lam_y))\n",
    "    interact(update_plot, snr_bob_db=(-10, 15, 1), lam_x=(0.5, 2, .1), lam_y=(0.5, 2, .1), r_s=(0.01, 0.5, 0.01))"
   ]
  },
  {
   "cell_type": "markdown",
   "metadata": {},
   "source": [
    "The following plot shows the behavior of the secrecy outage probability $\\varepsilon$ for varying SNR of Eve's channel $\\rho_y$.  \n",
    "The upper bound, lower bound, and the case of independent channels are plotted.\n",
    "\n",
    "The dashed line shows the value of Eve's SNR above which the lower bound changes and becomes dependent on Eve's SNR $\\rho_y$."
   ]
  },
  {
   "cell_type": "code",
   "execution_count": null,
   "metadata": {},
   "outputs": [],
   "source": [
    "plot_vs_snreve_main_csit()"
   ]
  },
  {
   "cell_type": "code",
   "execution_count": null,
   "metadata": {},
   "outputs": [],
   "source": [
    "def plot_vs_rs_main_csit():\n",
    "    r_c = 0  # not needed when CSIT is available\n",
    "    r_s = np.logspace(-3, 1, 40)\n",
    "    fig, axs = plt.subplots(num=\"Outage Probability vs Rs with Main CSIT\")\n",
    "    curves = {\"lower\": lower_bound_main_csit, \"upper\": upper_bound_main_csit, \n",
    "              \"independent\": independent_main_csit}\n",
    "    plots = {k: axs.loglog(r_s, np.ones(len(r_s)))[0] for k in curves.keys()}\n",
    "    axs.set_ylim([1e-4, 1.1])\n",
    "    axs.set_xlabel(\"Secrecy Rate $R_S$\")\n",
    "    axs.set_ylabel(\"Secrect Outage Probability $\\\\varepsilon$\")\n",
    "    def update_plot(snr_bob_db, snr_eve_db, lam_x, lam_y):\n",
    "        snr_bob = 10**(snr_bob_db/10)\n",
    "        snr_eve = 10**(snr_eve_db/10)\n",
    "        lam_xt = lam_x/snr_bob\n",
    "        lam_yt = lam_y/(snr_eve*2**r_s)\n",
    "        for _name, _func in curves.items():\n",
    "            plots[_name].set_ydata(_func(r_s, r_c, lam_xt, lam_yt))\n",
    "    interact(update_plot, snr_bob_db=(-10, 10, 1), snr_eve_db=(-10, 10, 1), lam_x=(0.5, 2, .1), lam_y=(0.5, 2, .1))"
   ]
  },
  {
   "cell_type": "markdown",
   "metadata": {},
   "source": [
    "The following plot shows the behavior of the secrecy outage probability $\\varepsilon$ for varying secrecy rates $R_S$.  \n",
    "The upper bound, lower bound, and the case of independent channels are plotted.\n",
    "\n",
    "An intereting behavior is that the lower bound approaches a positive value ($>0$) for $R_S\\to 0$, if Eve's channel quality exceeds the quality of Bob's channel. One way to observe this behavior is to simply increase the value of Eve's SNR."
   ]
  },
  {
   "cell_type": "code",
   "execution_count": null,
   "metadata": {},
   "outputs": [],
   "source": [
    "plot_vs_rs_main_csit()"
   ]
  },
  {
   "cell_type": "markdown",
   "metadata": {},
   "source": [
    "## Optimal Distributions"
   ]
  },
  {
   "cell_type": "markdown",
   "metadata": {},
   "source": [
    "In the above plots, the secrecy outage probabilities for the worst-case and best-case are shown.  \n",
    "In the following, we give examples of joint distributions of $X$ and $Y$ that achieve these bounds."
   ]
  },
  {
   "cell_type": "code",
   "execution_count": null,
   "metadata": {},
   "outputs": [],
   "source": [
    "def cdf_xt(x, lam=1):\n",
    "    return np.maximum(1.-np.exp(-x*lam), 0)\n",
    "\n",
    "def cdf_yt(y, lam=1):\n",
    "    return np.minimum(np.exp(y*lam), 1)\n",
    "\n",
    "def copula_lower(a, b, r_s=1, lam_xt=1, lam_yt=1):\n",
    "    t = lower_bound_main_csit(r_s, 1, lam_xt, lam_yt)\n",
    "    c = np.minimum(a, b)\n",
    "    idx_t = np.where(np.logical_and(a >= t, b >= t))\n",
    "    c[idx_t] = np.maximum(a[idx_t] + b[idx_t] - 1, t)\n",
    "    return c\n",
    "\n",
    "def copula_upper(a, b, r_s=1, lam_xt=1, lam_yt=1):\n",
    "    r = upper_bound_main_csit(r_s, 1, lam_xt, lam_yt)\n",
    "    c = np.minimum(a, b)\n",
    "    idx_r = np.where(np.logical_and(a <= r, b <= r))\n",
    "    c[idx_r] = np.maximum(a[idx_r] + b[idx_r] - r, 0)\n",
    "    return c"
   ]
  },
  {
   "cell_type": "code",
   "execution_count": null,
   "metadata": {},
   "outputs": [],
   "source": [
    "from matplotlib.gridspec import GridSpec\n",
    "\n",
    "def plot_joint_dist(copula, title):\n",
    "    xlim = [0, 2]\n",
    "    ylim = [0, 2]\n",
    "    fig = plt.figure(num=title)\n",
    "    gs = GridSpec(4,4)\n",
    "    ax_joint = fig.add_subplot(gs[1:4,0:3])\n",
    "    ax_marg_x = fig.add_subplot(gs[0,0:3])\n",
    "    ax_marg_y = fig.add_subplot(gs[1:4,3])\n",
    "    ax_marg_x.xaxis.tick_top()\n",
    "    ax_marg_y.yaxis.tick_right()\n",
    "    x, stepx = np.linspace(*xlim, num=75, retstep=True)\n",
    "    y, stepy = np.linspace(*ylim, num=75, retstep=True)\n",
    "    X, Y = np.meshgrid(x, y)\n",
    "    def update_plot(snr_bob_db=0, snr_eve_db=0, r_s=1, lam_x=1, lam_y=1):\n",
    "        snr_bob = 10**(snr_bob_db/10)\n",
    "        snr_eve = 10**(snr_eve_db/10)\n",
    "        lam_xt = lam_x/snr_bob\n",
    "        lam_yt = lam_y/(snr_eve*2**r_s)\n",
    "        Xt = snr_bob*X\n",
    "        Yt = -2**r_s*snr_eve*Y\n",
    "        marg_cdf_xt = cdf_xt(Xt, lam=lam_xt)\n",
    "        marg_cdf_yt = cdf_yt(Yt, lam=lam_yt)\n",
    "        joint_cdf = copula(marg_cdf_xt, marg_cdf_yt, r_s=r_s, lam_xt=lam_xt, lam_yt=lam_yt)\n",
    "        _gradx = np.gradient(joint_cdf, snr_bob*stepx, axis=0)\n",
    "        joint_pdf = np.gradient(_gradx, -2**r_s*snr_eve*stepy, axis=1)\n",
    "        marg_x = np.exp(-lam_x*x)\n",
    "        marg_y = np.exp(-lam_y*y)\n",
    "        for _ax in [ax_joint, ax_marg_x, ax_marg_y]:\n",
    "            _ax.clear()\n",
    "        ax_marg_x.set_xlim(xlim)\n",
    "        ax_marg_x.set_ylim([0, 1])\n",
    "        ax_marg_y.set_xlim([0, 1])\n",
    "        ax_marg_y.set_ylim(ylim)\n",
    "        ax_joint.set_xlabel(\"$X$\")\n",
    "        ax_joint.set_ylabel(\"$Y$\")\n",
    "        ax_joint.pcolormesh(X, Y, joint_pdf, vmin=0, shading=\"auto\")\n",
    "        ax_marg_x.plot(x, marg_x)\n",
    "        ax_marg_y.plot(marg_y, y)\n",
    "        fig.canvas.draw_idle()\n",
    "    interact(update_plot, snr_bob_db=(-5, 5), snr_eve_db=(-5, 5), r_s=(.1, 2, .1),\n",
    "             lam_x=(.1, 3, .1), lam_y=(.1, 3., .1))\n",
    "    #plt.colorbar()"
   ]
  },
  {
   "cell_type": "markdown",
   "metadata": {},
   "source": [
    "First, the joint distribution for the lower bound (best-case) is shown.\n",
    "\n",
    "The intuition behind this is that the high realizations of Eve's channel gain $Y$ always occur when Bob's channel gain $X$ is low. On the other hand, when $X$ is large, $Y$ is small and therefore only little outages occur."
   ]
  },
  {
   "cell_type": "code",
   "execution_count": null,
   "metadata": {
    "scrolled": false
   },
   "outputs": [],
   "source": [
    "plot_joint_dist(copula_lower, \"Joint Distribution Lower Bound\")"
   ]
  },
  {
   "cell_type": "markdown",
   "metadata": {},
   "source": [
    "Similarly, the joint distribution of the worst-case (upper bound) is shown next.\n",
    "\n",
    "Try the following settings to observe \"the full behavior\":  \n",
    "\n",
    "* SNR Bob: 5 dB\n",
    "* SNR Eve: 5 dB\n",
    "* R_S: 0.1\n",
    "* $\\lambda_x$: 0.5\n",
    "* $\\lambda_y$: 2.9"
   ]
  },
  {
   "cell_type": "code",
   "execution_count": null,
   "metadata": {},
   "outputs": [],
   "source": [
    "plot_joint_dist(copula_upper, \"Joint Distribution Upper Bound\")"
   ]
  },
  {
   "cell_type": "markdown",
   "metadata": {},
   "source": [
    "For comparison, we also show  the joint distribution of independent $X$ and $Y$."
   ]
  },
  {
   "cell_type": "code",
   "execution_count": null,
   "metadata": {},
   "outputs": [],
   "source": [
    "def plot_joint_independent():\n",
    "    xlim = [0, 2]\n",
    "    ylim = [0, 2]\n",
    "    fig = plt.figure(num=\"Joint Distribution Independent Channels\")\n",
    "    gs = GridSpec(4,4)\n",
    "    ax_joint = fig.add_subplot(gs[1:4,0:3])\n",
    "    ax_marg_x = fig.add_subplot(gs[0,0:3])\n",
    "    ax_marg_y = fig.add_subplot(gs[1:4,3])\n",
    "    ax_marg_x.xaxis.tick_top()\n",
    "    ax_marg_y.yaxis.tick_right()\n",
    "    x, stepx = np.linspace(*xlim, num=75, retstep=True)\n",
    "    y, stepy = np.linspace(*ylim, num=75, retstep=True)\n",
    "    X, Y = np.meshgrid(x, y)\n",
    "    def update_plot(lam_x=1, lam_y=1):\n",
    "        marg_pdf_x = np.exp(-lam_x*X)\n",
    "        marg_pdf_y = np.exp(-lam_y*Y)\n",
    "        joint_pdf = marg_pdf_x*marg_pdf_y\n",
    "        marg_x = marg_pdf_x[0, :]\n",
    "        marg_y = marg_pdf_y[:, 0]\n",
    "        for _ax in [ax_joint, ax_marg_x, ax_marg_y]:\n",
    "            _ax.clear()\n",
    "        ax_marg_x.set_xlim(xlim)\n",
    "        ax_marg_x.set_ylim([0, 1])\n",
    "        ax_marg_y.set_xlim([0, 1])\n",
    "        ax_marg_y.set_ylim(ylim)\n",
    "        ax_joint.set_xlabel(\"$X$\")\n",
    "        ax_joint.set_ylabel(\"$Y$\")\n",
    "        ax_joint.pcolormesh(X, Y, joint_pdf, vmin=0, shading=\"auto\")#, vmax=1)\n",
    "        ax_marg_x.plot(x, marg_x)\n",
    "        ax_marg_y.plot(marg_y, y)\n",
    "        fig.canvas.draw_idle()\n",
    "    interact(update_plot, lam_x=(.1, 3, .1), lam_y=(.1, 3., .1))\n",
    "    #plt.colorbar()"
   ]
  },
  {
   "cell_type": "code",
   "execution_count": null,
   "metadata": {},
   "outputs": [],
   "source": [
    "plot_joint_independent()"
   ]
  },
  {
   "cell_type": "markdown",
   "metadata": {},
   "source": [
    "# Only Statistical CSI-T"
   ]
  },
  {
   "cell_type": "markdown",
   "metadata": {},
   "source": [
    "After considering the scenario that the transmitter has perfect CSI about the main channel, we now consider the case that Alice has only statistical CSI.\n",
    "\n",
    "In this case, the outage probability is given as\n",
    "$$\\varepsilon = \\Pr\\left(\\tilde{X}+\\tilde{Y} < s \\vee \\tilde{X} < t\\right)$$\n",
    "with $t=2^{R_S+R_d}-1$."
   ]
  },
  {
   "cell_type": "code",
   "execution_count": null,
   "metadata": {},
   "outputs": [],
   "source": [
    "def plot_integration_area_no_csit():\n",
    "    fig, axs = plt.subplots(num=\"Integration Area No CSIT\")\n",
    "    y = np.linspace(-5, 0)\n",
    "    def update_plot(r_s, r_c):\n",
    "        x = np.maximum((2**r_s-1) - y, 2**(r_s+r_c)-1)\n",
    "        axs.clear()\n",
    "        axs.set_xlim([0, 5])\n",
    "        axs.set_ylim([-5, 0])\n",
    "        axs.set_xlabel(\"$\\\\tilde{x}$\")\n",
    "        axs.set_ylabel(\"$\\\\tilde{y}$\")\n",
    "        axs.plot(x, y)\n",
    "        axs.fill_betweenx(y, x, 0, alpha=.25)\n",
    "    interact(update_plot, r_s=(.01, 1, .01), r_c=(.01, 1, .01))"
   ]
  },
  {
   "cell_type": "markdown",
   "metadata": {},
   "source": [
    "The area corresponding to the outage event is now a bit different from the one where CSIT is available. In particular, the outages due to Bob's decoding errors add the area $\\tilde{X}<t$."
   ]
  },
  {
   "cell_type": "code",
   "execution_count": null,
   "metadata": {},
   "outputs": [],
   "source": [
    "plot_integration_area_no_csit()"
   ]
  },
  {
   "cell_type": "code",
   "execution_count": null,
   "metadata": {},
   "outputs": [],
   "source": [
    "from bounds_no_csit import lower_bound_no_csit, upper_bound_no_csit, independent_no_csit"
   ]
  },
  {
   "cell_type": "code",
   "execution_count": null,
   "metadata": {},
   "outputs": [],
   "source": [
    "def plot_no_csit_bounds():\n",
    "    snr_db = np.arange(-5, 21, 0.5)\n",
    "    snr_bob = 10**(snr_db/10)\n",
    "    curves = {\"Lower Bound\": lower_bound_no_csit,\n",
    "              \"Upper Bound\": upper_bound_no_csit,\n",
    "              \"Independent Case\": independent_no_csit}\n",
    "    fig, ax = plt.subplots(num=\"Outage Probability vs SNR_Bob without CSIT\")\n",
    "    plots = {k: ax.semilogy(snr_db, np.ones(len(snr_db)), label=k)[0] for k in curves.keys()}\n",
    "    ax.set_xlabel(\"SNR Bob $\\\\rho_x$ [dB]\")\n",
    "    ax.set_ylabel(\"Outage Probability $\\\\varepsilon$\")\n",
    "    ax.set_ylim([0.01, 1.1])\n",
    "    fig.legend()\n",
    "    def update_plot(snr_eve_db, r_s, r_c, lam_x, lam_y):\n",
    "        snr_eve = 10**(snr_eve_db/10)\n",
    "        lam_xt = lam_x/snr_bob\n",
    "        lam_yt = lam_y/(snr_eve*2**r_s)\n",
    "        for _name, _func in curves.items():\n",
    "            plots[_name].set_ydata(_func(r_s, r_c, lam_xt, lam_yt))\n",
    "    interact(update_plot, snr_eve_db=(-5, 10), r_s=(0.01, 2, 0.01), r_c=(0.01, 2, 0.01),\n",
    "             lam_x=(0.01, 3, 0.03), lam_y=(0.01, 3, 0.03))\n",
    "    plt.show()"
   ]
  },
  {
   "cell_type": "markdown",
   "metadata": {},
   "source": [
    "The following plot shows the behavior of the secrecy outage probability $\\varepsilon$ for varying SNR of Bob's channel $\\rho_x$.  \n",
    "The upper bound, lower bound, and the case of independent channels are plotted."
   ]
  },
  {
   "cell_type": "code",
   "execution_count": null,
   "metadata": {
    "scrolled": false
   },
   "outputs": [],
   "source": [
    "plot_no_csit_bounds()"
   ]
  },
  {
   "cell_type": "code",
   "execution_count": null,
   "metadata": {},
   "outputs": [],
   "source": [
    "def limits_rs_zero_no_csit(r_c, lam_x, lam_y, snr_x, snr_y, curve):\n",
    "    lam_xt = lam_x/snr_x\n",
    "    lam_yt = lam_y/snr_y\n",
    "    t = 2**r_c - 1\n",
    "    curve = curve.lower()\n",
    "    if curve.startswith(\"low\"):\n",
    "        _limit = _limit_rs_zero_no_csit_lower(t, lam_xt, lam_yt)\n",
    "    elif curve.startswith(\"up\"):\n",
    "        _limit = _limit_rs_zero_no_csit_upper(t, lam_xt, lam_yt)\n",
    "    elif curve.startswith(\"ind\"):\n",
    "        _limit = _limit_rs_zero_no_csit_indep(t, lam_xt, lam_yt)\n",
    "    else:\n",
    "        _limit = NotImplemented\n",
    "    return _limit\n",
    "\n",
    "def _limit_rs_zero_no_csit_lower(t, lam_xt, lam_yt):\n",
    "    if lam_xt == lam_yt:\n",
    "        yt_star = -1/lam_xt\n",
    "    else:\n",
    "        yt_star = np.log(lam_yt/lam_xt)/(lam_xt-lam_yt)\n",
    "    out_bob = 1.-np.exp(-lam_xt*t)\n",
    "    out_all = np.exp(lam_yt*yt_star) - np.exp(lam_xt*yt_star)\n",
    "    return np.maximum(out_bob, out_all)\n",
    "\n",
    "def _limit_rs_zero_no_csit_upper(t, lam_xt, lam_yt):\n",
    "    if lam_xt >= lam_yt:\n",
    "        out = 1\n",
    "    else:\n",
    "        yt_star = np.log(lam_yt/lam_xt)/(lam_xt-lam_yt)\n",
    "        yt_star = np.minimum(-t, yt_star)\n",
    "        out = 1 - np.exp(lam_xt*yt_star) + np.exp(lam_yt*yt_star)\n",
    "    return out\n",
    "\n",
    "def _limit_rs_zero_no_csit_indep(t, lam_xt, lam_yt):\n",
    "    return 1 - np.exp(-lam_xt*t) + (lam_xt*np.exp(-(lam_yt+lam_xt)*t))/(lam_xt + lam_yt)\n",
    "\n",
    "\n",
    "def plot_vs_rs_no_csit():\n",
    "    r_s = np.logspace(-3, 1, 40)\n",
    "    fig, axs = plt.subplots(num=\"Outage Probability vs Rs without CSIT\")\n",
    "    curves = {\"Lower Bound\": lower_bound_no_csit, \"Upper Bound\": upper_bound_no_csit, \n",
    "              \"Independent Case\": independent_no_csit}\n",
    "    plots = {k: axs.loglog(r_s, np.ones(len(r_s)), label=k)[0] for k in curves.keys()}\n",
    "    limit_plots = {k: axs.loglog([min(r_s), 1], [1, 1], '--', color=plots[k].get_color())[0] for k in curves.keys()}\n",
    "    axs.set_ylim([1e-3, 1.1])\n",
    "    axs.set_xlabel(\"Secrecy Rate $R_S$\")\n",
    "    axs.set_ylabel(\"Secrect Outage Probability $\\\\varepsilon$\")\n",
    "    fig.legend()\n",
    "    def update_plot(snr_bob_db, snr_eve_db, lam_x=1, lam_y=1, r_c=.5):\n",
    "        snr_bob = 10**(snr_bob_db/10)\n",
    "        snr_eve = 10**(snr_eve_db/10)\n",
    "        lam_xt = lam_x/snr_bob\n",
    "        lam_yt = lam_y/(snr_eve*2**r_s)\n",
    "        #print(snr_db)\n",
    "        #print(lam_xt>lam_yt)\n",
    "        for _name, _func in curves.items():\n",
    "            plots[_name].set_ydata(_func(r_s, r_c, lam_xt, lam_yt))\n",
    "            limit_plots[_name].set_ydata(limits_rs_zero_no_csit(r_c, lam_x, lam_y, snr_bob, snr_eve, _name))\n",
    "    interact(update_plot, snr_bob_db=(-10, 10, 1), snr_eve_db=(-10, 10, 1), lam_x=(0.5, 2, .1),\n",
    "             lam_y=(0.5, 2, .1), r_c=(0.05, 1, .01))"
   ]
  },
  {
   "cell_type": "markdown",
   "metadata": {},
   "source": [
    "The following plot shows the behavior of the different cases for different values of the secrecy rate $R_{S}$. It can be seen that all three curves approach a positive value for $R_S\\to 0$."
   ]
  },
  {
   "cell_type": "code",
   "execution_count": null,
   "metadata": {},
   "outputs": [],
   "source": [
    "plot_vs_rs_no_csit()"
   ]
  },
  {
   "cell_type": "markdown",
   "metadata": {},
   "source": [
    "# Comparison Statistical CSIT vs Perfect CSIT"
   ]
  },
  {
   "cell_type": "code",
   "execution_count": null,
   "metadata": {},
   "outputs": [],
   "source": [
    "def plot_comparison_bounds():\n",
    "    snr_db = np.arange(-5, 16, 0.1)\n",
    "    snr_bob = 10**(snr_db/10)\n",
    "    curves = {\"Lower - No CSIT\": lower_bound_no_csit,\n",
    "              \"Upper - No CSIT\": upper_bound_no_csit,\n",
    "              \"Indep - No CSIT\": independent_no_csit,\n",
    "              \"Lower - Main CSIT\": lower_bound_main_csit,\n",
    "              \"Upper - Main CSIT\": upper_bound_main_csit,\n",
    "              \"Indep - Main CSIT\": independent_main_csit}\n",
    "    fig, ax = plt.subplots(num=\"Outage Probability vs SNR_Bob with and without CSIT\")\n",
    "    plots = {k: ax.semilogy(snr_db, np.ones(len(snr_db)), label=k)[0] for k in curves.keys()}\n",
    "    ax.set_xlabel(\"SNR Bob $\\\\rho_x$ [dB]\")\n",
    "    ax.set_ylabel(\"Outage Probability $\\\\varepsilon$\")\n",
    "    ax.set_ylim([0.001, 1.1])\n",
    "    ax.legend()\n",
    "    def update_plot(snr_eve_db, r_s, r_c, lam_x, lam_y):\n",
    "        snr_eve = 10**(snr_eve_db/10)\n",
    "        lam_xt = lam_x/snr_bob\n",
    "        lam_yt = lam_y/(snr_eve*2**r_s)\n",
    "        for _name, _func in curves.items():\n",
    "            plots[_name].set_ydata(_func(r_s, r_c, lam_xt, lam_yt))\n",
    "    interact(update_plot, snr_eve_db=(-5, 10), r_s=(0.01, 2, 0.01), r_c=(0.01, 2, 0.01),\n",
    "             lam_x=(0.01, 3, 0.03), lam_y=(0.01, 3, 0.03))\n",
    "    plt.show()"
   ]
  },
  {
   "cell_type": "markdown",
   "metadata": {},
   "source": [
    "The following plot shows the behavior of the secrecy outage probability $\\varepsilon$ with and without perfect CSIT for varying SNR of Bob's channel $\\rho_x$.  \n",
    "The upper bound, lower bound, and the case of independent channels are plotted."
   ]
  },
  {
   "cell_type": "code",
   "execution_count": null,
   "metadata": {},
   "outputs": [],
   "source": [
    "plot_comparison_bounds()"
   ]
  },
  {
   "cell_type": "markdown",
   "metadata": {},
   "source": [
    "# Alternative Secrecy Outage Definition"
   ]
  },
  {
   "cell_type": "markdown",
   "metadata": {},
   "source": [
    "The above secrecy outage definition does not take into account that Eve's channel might be good enough that she is able to decode parts of the secret message.  \n",
    "We therefore take a look at a different secrecy outage definition in the following, which takes this event\n",
    "$$E_3:\\quad Y>R_d$$\n",
    "into account. The definition is taken from [(Zhou et al, 2011)](https://doi.org/10.1109/LCOMM.2011.011811.102433).\n",
    "\n",
    "Again, both cases of perfect and only statistical CSIT about the main channel are investigated."
   ]
  },
  {
   "cell_type": "code",
   "execution_count": null,
   "metadata": {},
   "outputs": [],
   "source": [
    "from full_outage_main_csit import lower_bound_main_csit_full, upper_bound_main_csit_full, independent_main_csit_full\n",
    "from full_outage_no_csit import lower_bound_no_csit_full, upper_bound_no_csit_full, independent_no_csit_full"
   ]
  },
  {
   "cell_type": "markdown",
   "metadata": {},
   "source": [
    "## Perfect Main CSIT"
   ]
  },
  {
   "cell_type": "code",
   "execution_count": null,
   "metadata": {},
   "outputs": [],
   "source": [
    "def plot_vs_snrbob_main_csit_full():\n",
    "    snr_db = np.arange(-5, 15.5, .5)\n",
    "    snr_bob = 10**(snr_db/10)\n",
    "    fig, axs = plt.subplots(num=\"Alternative Outage Probability vs SNR_Bob with Main CSIT\")\n",
    "    curves = {\"Lower Bound\": lower_bound_main_csit_full, \"Upper Bound\": upper_bound_main_csit_full, \n",
    "              \"Independent Channels\": independent_main_csit_full}\n",
    "    plots = {k: axs.semilogy(snr_db, np.ones(len(snr_db)), label=k)[0] for k in curves.keys()}\n",
    "    axs.set_ylim([1e-3, 1.1])\n",
    "    axs.set_xlabel(\"SNR Bob $\\\\rho_x$ [dB]\")\n",
    "    axs.set_ylabel(\"Secrect Outage Probability $\\\\varepsilon$\")\n",
    "    axs.legend()\n",
    "    def update_plot(snr_eve_db, lam_x, lam_y, r_s, r_c):\n",
    "        snr_eve = 10**(snr_eve_db/10)\n",
    "        lam_xt = lam_x/snr_bob\n",
    "        lam_yt = lam_y/(snr_eve*2**r_s)\n",
    "        for _name, _func in curves.items():\n",
    "            plots[_name].set_ydata(_func(r_s, r_c, lam_xt, lam_yt))\n",
    "    interact(update_plot, snr_eve_db=(-10, 10, 1), lam_x=(0.5, 2, .1), lam_y=(0.5, 2, .1), \n",
    "             r_s=(0.01, 0.5, 0.01), r_c=(0.1, 2, 0.1))"
   ]
  },
  {
   "cell_type": "code",
   "execution_count": null,
   "metadata": {},
   "outputs": [],
   "source": [
    "plot_vs_snrbob_main_csit_full()"
   ]
  },
  {
   "cell_type": "markdown",
   "metadata": {},
   "source": [
    "## Statistical CSIT"
   ]
  },
  {
   "cell_type": "code",
   "execution_count": null,
   "metadata": {},
   "outputs": [],
   "source": [
    "def plot_vs_snrbob_no_csit_full():\n",
    "    snr_db = np.arange(-5, 15.5, .5)\n",
    "    snr_bob = 10**(snr_db/10)\n",
    "    fig, axs = plt.subplots(num=\"Alternative Outage Probability vs SNR_Bob without CSIT\")\n",
    "    curves = {\"Lower Bound\": lower_bound_no_csit_full, \"Upper Bound\": upper_bound_no_csit_full, \n",
    "              \"Independent Channels\": independent_no_csit_full}\n",
    "    plots = {k: axs.semilogy(snr_db, np.ones(len(snr_db)), label=k)[0] for k in curves.keys()}\n",
    "    axs.set_ylim([1e-2, 1.1])\n",
    "    axs.set_xlabel(\"SNR Bob $\\\\rho_x$ [dB]\")\n",
    "    axs.set_ylabel(\"Secrect Outage Probability $\\\\varepsilon$\")\n",
    "    axs.legend()\n",
    "    def update_plot(snr_eve_db, lam_x, lam_y, r_s, r_c):\n",
    "        snr_eve = 10**(snr_eve_db/10)\n",
    "        lam_xt = lam_x/snr_bob\n",
    "        lam_yt = lam_y/(snr_eve*2**r_s)\n",
    "        for _name, _func in curves.items():\n",
    "            plots[_name].set_ydata(_func(r_s, r_c, lam_xt, lam_yt))\n",
    "    interact(update_plot, snr_eve_db=(-10, 10, 1), lam_x=(0.5, 2, .1), lam_y=(0.5, 2, .1), \n",
    "             r_s=(0.01, 0.5, 0.01), r_c=(0.1, 2, 0.1))"
   ]
  },
  {
   "cell_type": "code",
   "execution_count": null,
   "metadata": {},
   "outputs": [],
   "source": [
    "plot_vs_snrbob_no_csit_full()"
   ]
  },
  {
   "cell_type": "code",
   "execution_count": null,
   "metadata": {},
   "outputs": [],
   "source": [
    "def plot_comparison_bounds_full():\n",
    "    snr_db = np.arange(-5, 16, 0.1)\n",
    "    snr_bob = 10**(snr_db/10)\n",
    "    curves = {\"Lower - No CSIT\": lower_bound_no_csit_full,\n",
    "              \"Upper - No CSIT\": upper_bound_no_csit_full,\n",
    "              \"Indep - No CSIT\": independent_no_csit_full,\n",
    "              \"Lower - Main CSIT\": lower_bound_main_csit_full,\n",
    "              \"Upper - Main CSIT\": upper_bound_main_csit_full,\n",
    "              \"Indep - Main CSIT\": independent_main_csit_full}\n",
    "    fig, ax = plt.subplots(num=\"Alternative Outage Probability vs SNR_Bob with and without CSIT\")\n",
    "    plots = {k: ax.semilogy(snr_db, np.ones(len(snr_db)), label=k)[0] for k in curves.keys()}\n",
    "    ax.set_xlabel(\"SNR Bob $\\\\rho_x$ [dB]\")\n",
    "    ax.set_ylabel(\"Outage Probability $\\\\varepsilon$\")\n",
    "    ax.set_ylim([0.001, 1.1])\n",
    "    ax.legend()\n",
    "    def update_plot(snr_eve_db, r_s, r_c, lam_x, lam_y):\n",
    "        snr_eve = 10**(snr_eve_db/10)\n",
    "        lam_xt = lam_x/snr_bob\n",
    "        lam_yt = lam_y/(snr_eve*2**r_s)\n",
    "        for _name, _func in curves.items():\n",
    "            plots[_name].set_ydata(_func(r_s, r_c, lam_xt, lam_yt))\n",
    "    interact(update_plot, snr_eve_db=(-5, 10), r_s=(0.01, 2, 0.01), r_c=(0.01, 2, 0.01),\n",
    "             lam_x=(0.01, 3, 0.03), lam_y=(0.01, 3, 0.03))\n",
    "    plt.show()"
   ]
  },
  {
   "cell_type": "code",
   "execution_count": null,
   "metadata": {},
   "outputs": [],
   "source": [
    "plot_comparison_bounds_full()"
   ]
  }
 ],
 "metadata": {
  "kernelspec": {
   "display_name": "Python 3",
   "language": "python",
   "name": "python3"
  },
  "language_info": {
   "codemirror_mode": {
    "name": "ipython",
    "version": 3
   },
   "file_extension": ".py",
   "mimetype": "text/x-python",
   "name": "python",
   "nbconvert_exporter": "python",
   "pygments_lexer": "ipython3",
   "version": "3.9.1"
  }
 },
 "nbformat": 4,
 "nbformat_minor": 2
}
